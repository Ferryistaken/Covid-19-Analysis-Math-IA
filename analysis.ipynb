{
 "metadata": {
  "language_info": {
   "codemirror_mode": {
    "name": "ipython",
    "version": 3
   },
   "file_extension": ".py",
   "mimetype": "text/x-python",
   "name": "python",
   "nbconvert_exporter": "python",
   "pygments_lexer": "ipython3",
   "version": "3.6.12-final"
  },
  "orig_nbformat": 2,
  "kernelspec": {
   "name": "Python 3.6.12 64-bit",
   "display_name": "Python 3.6.12 64-bit",
   "metadata": {
    "interpreter": {
     "hash": "30295c5bec572e859485b1ffa5e89b8b3e2022ef6e3e739c1ac40f143a557caf"
    }
   }
  }
 },
 "nbformat": 4,
 "nbformat_minor": 2,
 "cells": [
  {
   "cell_type": "code",
   "execution_count": null,
   "metadata": {},
   "outputs": [],
   "source": [
    "import pandas as pd\n",
    "from datetime import datetime\n",
    "from sqlalchemy import create_engine"
   ]
  },
  {
   "cell_type": "code",
   "execution_count": null,
   "metadata": {},
   "outputs": [],
   "source": [
    "# this is to make it so that new files can be easily analyzed\n",
    "first_date = '04-12-2020'\n",
    "end_date = '02-02-2021'\n",
    "\n",
    "# create date range and format it nicely\n",
    "dates = pd.date_range(first_date, end_date)\n",
    "dates.format(formatter=lambda x: x.strftime('%m-%d-%Y'))\n",
    "\n",
    "date_list = []\n",
    "# print all dates\n",
    "for date in dates:\n",
    "    current_date = date.strftime('%m-%d-%Y')\n",
    "    #print(current_date)\n",
    "    date_list.append(current_date)\n",
    "\n",
    "print(\"Date list has been generated, first date: \" + str(date_list[0]) + \", last date: \" + str(date_list[-1]) + \", number of dates: \" + str(len(date_list)))"
   ]
  },
  {
   "cell_type": "code",
   "execution_count": null,
   "metadata": {},
   "outputs": [],
   "source": [
    "# This is because SQLite3 takes ISO-8061 date formats\n",
    "\n",
    "iso_dates_list = []\n",
    "\n",
    "for date in date_list:\n",
    "    datetime_obj = datetime.strptime(date, '%m-%d-%Y')\n",
    "    print(datetime_obj.isoformat())\n",
    "    iso_dates_list.append(datetime_obj.isoformat())"
   ]
  },
  {
   "cell_type": "code",
   "execution_count": 52,
   "metadata": {},
   "outputs": [],
   "source": [
    "# start sqlite3 database in RAM\n",
    "engine = create_engine('sqlite://', echo=False)"
   ]
  },
  {
   "cell_type": "code",
   "execution_count": 53,
   "metadata": {
    "tags": []
   },
   "outputs": [],
   "source": [
    "# clean and prepare data for database\n",
    "\n",
    "path = r'COVID-19/csse_covid_19_data/csse_covid_19_daily_reports_us/'\n",
    "\n",
    "for i in range(0, len(date_list)):\n",
    "    # load data into dataframe\n",
    "    data = pd.read_csv(path + date_list[i] + \".csv\")\n",
    "\n",
    "    # clean column name\n",
    "    data.columns = data.columns.str.replace(' ', '')\n",
    "\n",
    "    # add date column\n",
    "    data.insert(2, \"Date\", iso_dates_list[i], True)\n",
    "\n",
    "    # change names which for some reason change from 2020 to 2021\n",
    "    data.rename(columns={'Total_Test_Results': 'People_Tested', 'Case_Fatality_Ratio': 'Mortality_Rate'}, inplace=True)\n",
    "\n",
    "\n",
    "    # load dataframe into table\n",
    "    data.to_sql('Covid_Data', con=engine, if_exists='append', chunksize=1000)"
   ]
  },
  {
   "cell_type": "code",
   "execution_count": 61,
   "metadata": {},
   "outputs": [
    {
     "output_type": "execute_result",
     "data": {
      "text/plain": [
       "[(126217,)]"
      ]
     },
     "metadata": {},
     "execution_count": 61
    }
   ],
   "source": [
    "# Get total deaths\n",
    "engine.execute(\"SELECT SUM (D) FROM (SELECT MAX (Deaths) AS D FROM Covid_Data WHERE Date > '2020-04-12' AND Date < '2020-06-30' GROUP BY rtrim(Province_State));\").fetchall()"
   ]
  }
 ]
}